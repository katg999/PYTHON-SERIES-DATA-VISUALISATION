{
  "nbformat": 4,
  "nbformat_minor": 0,
  "metadata": {
    "colab": {
      "provenance": []
    },
    "kernelspec": {
      "name": "python3",
      "display_name": "Python 3"
    },
    "language_info": {
      "name": "python"
    }
  },
  "cells": [
    {
      "cell_type": "code",
      "execution_count": null,
      "metadata": {
        "colab": {
          "base_uri": "https://localhost:8080/"
        },
        "id": "zqPHCt2Acl61",
        "outputId": "e872a4fe-ecdc-4889-a9b3-4b21ba171a60"
      },
      "outputs": [
        {
          "output_type": "stream",
          "name": "stdout",
          "text": [
            "Enter your name: Katende\n",
            "Enter your weight in pounds: 170\n",
            "Enter your height in inches: 69\n",
            "25.101869355177485\n",
            "Katendeyou are overweight\n"
          ]
        }
      ],
      "source": [
        "name = input(\"Enter your name: \")\n",
        "weight = int(input(\"Enter your weight in pounds: \"))\n",
        "height = int(input(\"Enter your height in inches: \"))\n",
        "BMI = (weight * 703) / (height * height)\n",
        "print(BMI)\n",
        "\n",
        "if BMI < 18.5:\n",
        "    print( name  + \"you are underweight\")\n",
        "elif BMI < 24.9:\n",
        "    print( name  +  \"you are normal weight\")\n",
        "elif   BMI < 29.9:\n",
        "    print( name +  \"you are overweight\")\n",
        "elif BMI < 34.9:\n",
        "        print( name +  \"you are obese\")\n",
        "elif BMI < 39.9:\n",
        "            print (name +  \"you are severely obese\")\n",
        "else:\n",
        "    print(f\"Enter valid inputs\")"
      ]
    },
    {
      "cell_type": "code",
      "source": [
        "if BMI < 18.5:\n",
        "    print(name  + \"you are underweight\")\n",
        "elif BMI < 24.9:\n",
        "    print(name  +  \"you are normal weight\")\n",
        "elif   BMI < 29.9:\n",
        "    print(name +  \"you are overweight\")\n",
        "elif BMI < 34.9:\n",
        "        print(name +  \"you are obese\")\n",
        "elif BMI < 39.9:\n",
        "            print(name +  \"you are severely obese\")\n",
        "else:\n",
        "    print(f\"Enter valid inputs\")\n"
      ],
      "metadata": {
        "colab": {
          "base_uri": "https://localhost:8080/"
        },
        "id": "gGtMrkpXn2tq",
        "outputId": "7ac945c9-c88a-400f-869c-14bd940bd96d"
      },
      "execution_count": null,
      "outputs": [
        {
          "output_type": "stream",
          "name": "stdout",
          "text": [
            "Alexyou are underweight\n"
          ]
        }
      ]
    }
  ]
}